{
 "cells": [
  {
   "cell_type": "code",
   "execution_count": null,
   "metadata": {},
   "outputs": [],
   "source": [
    "area = 5*5*3.14159"
   ]
  },
  {
   "cell_type": "code",
   "execution_count": null,
   "metadata": {},
   "outputs": [],
   "source": [
    "print(\"Learning Pyhton now!\")"
   ]
  },
  {
   "cell_type": "code",
   "execution_count": null,
   "metadata": {},
   "outputs": [],
   "source": [
    "print(\"Python is fun\")"
   ]
  },
  {
   "cell_type": "code",
   "execution_count": null,
   "metadata": {},
   "outputs": [],
   "source": [
    "#display two messages\n",
    "print(\"Learning Pyhton now!\")\n",
    "print(\"Python is fun\")"
   ]
  },
  {
   "cell_type": "code",
   "execution_count": null,
   "metadata": {},
   "outputs": [],
   "source": [
    "#display two messages\n",
    "print(\"Learning Pyhton now!\");\n",
    "print(\"Python is fun\");"
   ]
  },
  {
   "cell_type": "code",
   "execution_count": null,
   "metadata": {},
   "outputs": [],
   "source": [
    "print(1/0)"
   ]
  },
  {
   "cell_type": "code",
   "execution_count": null,
   "metadata": {},
   "outputs": [],
   "source": [
    "#Convert Fachrenheit to Celsius\n",
    "print(\"Fahrenheit 80 is Celsius\")\n",
    "print(5/9 * 80 - 32)"
   ]
  },
  {
   "cell_type": "code",
   "execution_count": null,
   "metadata": {},
   "outputs": [],
   "source": [
    "#Convert miles to Kilometers\n",
    "print(\"mile 96 is Kilometers\")\n",
    "print(96 * 1.6)"
   ]
  },
  {
   "cell_type": "code",
   "execution_count": null,
   "metadata": {},
   "outputs": [],
   "source": [
    "print(\"Hello,Python\")"
   ]
  },
  {
   "cell_type": "code",
   "execution_count": null,
   "metadata": {},
   "outputs": [],
   "source": [
    "print('Hello,Python');"
   ]
  },
  {
   "cell_type": "code",
   "execution_count": null,
   "metadata": {},
   "outputs": [],
   "source": [
    "#Convert Fahrenheit to Celsius\n",
    "print('Fahrenheit 212 is Celsius degree')\n",
    "print(5/9*212-32)"
   ]
  },
  {
   "cell_type": "code",
   "execution_count": null,
   "metadata": {},
   "outputs": [],
   "source": [
    "print('Learning Python now')\n",
    "print('Python is fun')\n",
    "print('Python is a good programming lanuage')"
   ]
  },
  {
   "cell_type": "code",
   "execution_count": null,
   "metadata": {},
   "outputs": [],
   "source": [
    "print(\"Learning Pyhton now!\")\n",
    "print(\"Python is fun\")"
   ]
  },
  {
   "cell_type": "code",
   "execution_count": null,
   "metadata": {},
   "outputs": [],
   "source": [
    "print(12345)"
   ]
  },
  {
   "cell_type": "code",
   "execution_count": null,
   "metadata": {},
   "outputs": [],
   "source": [
    "print(123.456)"
   ]
  },
  {
   "cell_type": "code",
   "execution_count": null,
   "metadata": {},
   "outputs": [],
   "source": [
    "print(\"Learning Python now!\")"
   ]
  },
  {
   "cell_type": "code",
   "execution_count": null,
   "metadata": {},
   "outputs": [],
   "source": [
    "print('Learning Python now!')"
   ]
  },
  {
   "cell_type": "code",
   "execution_count": null,
   "metadata": {},
   "outputs": [],
   "source": [
    "print('Python is fun ')\n",
    "print(\"Let's go\")"
   ]
  },
  {
   "cell_type": "code",
   "execution_count": null,
   "metadata": {},
   "outputs": [],
   "source": [
    "print('Python is fun')\n",
    "print('Let\\'s go')"
   ]
  },
  {
   "cell_type": "code",
   "execution_count": null,
   "metadata": {},
   "outputs": [],
   "source": [
    "print('\\\\n is skip a line')"
   ]
  },
  {
   "cell_type": "code",
   "execution_count": null,
   "metadata": {},
   "outputs": [],
   "source": [
    "print('Learning Python now!\\nPython is fun')"
   ]
  },
  {
   "cell_type": "code",
   "execution_count": null,
   "metadata": {},
   "outputs": [],
   "source": [
    "print('|Hello, \\tworld|')"
   ]
  },
  {
   "cell_type": "code",
   "execution_count": null,
   "metadata": {},
   "outputs": [],
   "source": [
    "print('| \\tHello,world|')"
   ]
  },
  {
   "cell_type": "code",
   "execution_count": null,
   "metadata": {},
   "outputs": [],
   "source": [
    "print('\\\\n is skip a line')"
   ]
  },
  {
   "cell_type": "code",
   "execution_count": null,
   "metadata": {},
   "outputs": [],
   "source": [
    "print('\\\"Hello,world\\\"')"
   ]
  },
  {
   "cell_type": "code",
   "execution_count": null,
   "metadata": {},
   "outputs": [],
   "source": [
    "print('Raduis =',12)\n"
   ]
  },
  {
   "cell_type": "code",
   "execution_count": null,
   "metadata": {},
   "outputs": [],
   "source": [
    "print('Hello,')\n",
    "print('world')"
   ]
  },
  {
   "cell_type": "code",
   "execution_count": null,
   "metadata": {},
   "outputs": [],
   "source": [
    "print('Hello,',end = '')\n",
    "print('world')"
   ]
  },
  {
   "cell_type": "code",
   "execution_count": null,
   "metadata": {},
   "outputs": [],
   "source": [
    "print('Hello,','world')"
   ]
  },
  {
   "cell_type": "code",
   "execution_count": null,
   "metadata": {},
   "outputs": [],
   "source": [
    "print('Hello,',end = '***')\n",
    "print('world')"
   ]
  },
  {
   "cell_type": "code",
   "execution_count": null,
   "metadata": {},
   "outputs": [],
   "source": [
    "print('***Hello,world',end='***')\n",
    "print('')\n",
    "print('Hello,Python')\n",
    "print('excellent!!!')"
   ]
  },
  {
   "cell_type": "code",
   "execution_count": null,
   "metadata": {},
   "outputs": [],
   "source": [
    "print(format(item,format-specifier))"
   ]
  },
  {
   "cell_type": "code",
   "execution_count": null,
   "metadata": {},
   "outputs": [],
   "source": [
    "print(format(100,'8d'))"
   ]
  },
  {
   "cell_type": "code",
   "execution_count": null,
   "metadata": {},
   "outputs": [],
   "source": [
    "print(format(100000,'3d'))"
   ]
  },
  {
   "cell_type": "code",
   "execution_count": null,
   "metadata": {},
   "outputs": [],
   "source": [
    "print(format(100,'8x'))"
   ]
  },
  {
   "cell_type": "code",
   "execution_count": null,
   "metadata": {},
   "outputs": [],
   "source": [
    "print(format(100,'8o'))"
   ]
  },
  {
   "cell_type": "code",
   "execution_count": null,
   "metadata": {},
   "outputs": [],
   "source": [
    "print(format(100,'8b'))"
   ]
  },
  {
   "cell_type": "code",
   "execution_count": null,
   "metadata": {},
   "outputs": [],
   "source": [
    "print(format(0.2389,'6.2%'))\n"
   ]
  },
  {
   "cell_type": "code",
   "execution_count": null,
   "metadata": {},
   "outputs": [],
   "source": [
    "print(format(123.456,'8.2f'))"
   ]
  },
  {
   "cell_type": "code",
   "execution_count": null,
   "metadata": {},
   "outputs": [],
   "source": [
    "print(format('Python is fun','15s'))"
   ]
  },
  {
   "cell_type": "code",
   "execution_count": null,
   "metadata": {},
   "outputs": [],
   "source": [
    "print(format('Python is fun','>15s'))"
   ]
  },
  {
   "cell_type": "code",
   "execution_count": null,
   "metadata": {},
   "outputs": [],
   "source": [
    "print(format(12345,'10d'))\n",
    "print(format(12345,'<10d'))"
   ]
  },
  {
   "cell_type": "code",
   "execution_count": null,
   "metadata": {},
   "outputs": [],
   "source": [
    "print(format(12345,'^11d'))"
   ]
  },
  {
   "cell_type": "code",
   "execution_count": null,
   "metadata": {},
   "outputs": [],
   "source": [
    "print(12345,12,1234567)\n",
    "print(12,1234567,12345)\n",
    "print(1234567,12345,12)\n"
   ]
  },
  {
   "cell_type": "code",
   "execution_count": null,
   "metadata": {},
   "outputs": [],
   "source": [
    "print(format(12345,'10d'))\n",
    "print(format(12,'10d'))\n",
    "print(format(1245657,'10d'))\n",
    "\n",
    "print(format(12,'10d'))\n",
    "print(format(1245657,'10d'))\n",
    "print(format(12345,'10d'))\n",
    "\n",
    "print(format(1245657,'10d'))\n",
    "print(format(12345,'10d'))\n",
    "print(format(12,'10d'))"
   ]
  },
  {
   "cell_type": "code",
   "execution_count": null,
   "metadata": {},
   "outputs": [],
   "source": [
    "print(format(12345,'10d'),end=\")\n",
    "print(format(12,'10d'),end=\")\n",
    "print(format(1245657,'10d'))\n",
    "\n",
    "print(format(12,'10d'),end=\")\n",
    "print(format(1245657,'10d'),end=\")\n",
    "print(format(12345,'10d'))\n",
    "\n",
    "print(format(1245657,'10d'),end=\")\n",
    "print(format(12345,'10d'),end=\")\n",
    "print(format(12,'10d'))"
   ]
  },
  {
   "cell_type": "code",
   "execution_count": null,
   "metadata": {},
   "outputs": [],
   "source": [
    "print(format(12345,'10d'),format(12,'10d'),format(1245657,'10d'))\n",
    "\n",
    "print(format(12,'10d'),format(1245657,'10d'),format(12345,'10d'))\n",
    "\n",
    "print(format(1245657,'10d'),format(12345,'10d'),format(12,'10d'))"
   ]
  },
  {
   "cell_type": "code",
   "execution_count": null,
   "metadata": {},
   "outputs": [],
   "source": [
    "print('%10d'%(12345))"
   ]
  },
  {
   "cell_type": "code",
   "execution_count": null,
   "metadata": {},
   "outputs": [],
   "source": [
    "print('|%10d|'%(12345))"
   ]
  },
  {
   "cell_type": "code",
   "execution_count": null,
   "metadata": {},
   "outputs": [],
   "source": [
    "print('|%3d|'%(12345))"
   ]
  },
  {
   "cell_type": "code",
   "execution_count": null,
   "metadata": {},
   "outputs": [],
   "source": [
    "print('|%-10d|'%(12345))"
   ]
  },
  {
   "cell_type": "code",
   "execution_count": null,
   "metadata": {},
   "outputs": [],
   "source": [
    "print('|%8.2f|'%(123.456))\n",
    "print('|%8.2f|'%(1.23456))\n",
    "print('|%8.2f|'%(1234.56))\n",
    "print('|%8.2f|'%(12.3456))\n",
    "print('|%8.2f|'%(12345.6))"
   ]
  },
  {
   "cell_type": "code",
   "execution_count": null,
   "metadata": {},
   "outputs": [],
   "source": [
    "print('|%.2f|'%(123.456))\n",
    "print('|%.2f|'%(1.23456))\n",
    "print('|%.2f|'%(1234.56))\n",
    "print('|%.2f|'%(12.3456))\n",
    "print('|%.2f|'%(12345.6))"
   ]
  },
  {
   "cell_type": "code",
   "execution_count": null,
   "metadata": {},
   "outputs": [],
   "source": [
    "print('|%30s|'%('Learning Python now!'))\n",
    "print('|%-30s|'%('Learning Python now!'))\n",
    "print('|%15s|'%('Learning Python now!'))"
   ]
  },
  {
   "cell_type": "code",
   "execution_count": null,
   "metadata": {},
   "outputs": [],
   "source": [
    "print('width = %2d, height = %2d, area = %3d'%(5,7,24))"
   ]
  },
  {
   "cell_type": "code",
   "execution_count": null,
   "metadata": {},
   "outputs": [],
   "source": [
    "print('%10d%10d%10d'%(12345,12,1234567))\n",
    "print('%10d%10d%10d'%(12,1234567,12345))\n",
    "print('%10d%10d%10d'%(1234567,12345,12))"
   ]
  },
  {
   "cell_type": "code",
   "execution_count": null,
   "metadata": {},
   "outputs": [],
   "source": [
    "print('%d%% orange juice'%(100))"
   ]
  },
  {
   "cell_type": "code",
   "execution_count": null,
   "metadata": {},
   "outputs": [],
   "source": [
    "print('{0}'.format(123))\n",
    "print('{0},{1}'.format(123,12345))\n",
    "print('{0:5d},{1:7d}'.format(123,12345))\n",
    "print('x = {0:5d}, y={1:7d}'.format(123,12345))\n",
    "print('x = {p:5d}, y={q:7d}'.format(p = 123,q = 12345))\n",
    "print('a = {0:7.2f},b = {1:9.2f}'.format(123.456,123.456))\n",
    "print('{p:9s},{q:7s}'.format(p = 'Wiki',q = 'Banana'))\n",
    "print('{p:>9s},{q:>9s}'.format(p = 'Wiki',q = 'Banana'))\n",
    "print('{p:^9s},{p:^9s}'.format(p = 'Wiki',q = 'Banana'))"
   ]
  },
  {
   "cell_type": "code",
   "execution_count": null,
   "metadata": {},
   "outputs": [],
   "source": [
    "print('{0}'.format(123))"
   ]
  },
  {
   "cell_type": "code",
   "execution_count": null,
   "metadata": {},
   "outputs": [],
   "source": [
    "print('{0},{1}'.format(123,12345))"
   ]
  },
  {
   "cell_type": "code",
   "execution_count": null,
   "metadata": {},
   "outputs": [],
   "source": [
    "print('{0:5d},{1:7d}'.format(123,12345))"
   ]
  },
  {
   "cell_type": "code",
   "execution_count": null,
   "metadata": {},
   "outputs": [],
   "source": [
    "print('x={p:5d},y={q:7d}'.format(p=123,q=12345))"
   ]
  },
  {
   "cell_type": "code",
   "execution_count": null,
   "metadata": {},
   "outputs": [],
   "source": [
    "print('a={0:7.2f},b={1:9.2f}'.format(123.456,123.456))"
   ]
  },
  {
   "cell_type": "code",
   "execution_count": null,
   "metadata": {},
   "outputs": [],
   "source": [
    "print('|%10d %9d %9d|'%(12345,12,1234567))\n",
    "print('|%10d %9d %9d|'%(12,1234567,123))\n",
    "print('|%10d %9d %9d|'%(1234567,123,12345))"
   ]
  },
  {
   "cell_type": "code",
   "execution_count": null,
   "metadata": {},
   "outputs": [],
   "source": [
    "print(format('Department','12s'))\n",
    "print(format('of','12s'))\n",
    "print(format('Computer','12s'))\n",
    "print(format('Science','12s'))\n",
    "print()"
   ]
  },
  {
   "cell_type": "code",
   "execution_count": null,
   "metadata": {},
   "outputs": [],
   "source": [
    "print(format('Department','>12s'))\n",
    "print(format('of','>12s'))\n",
    "print(format('Computer','>12s'))\n",
    "print(format('Science','>12s'))"
   ]
  },
  {
   "cell_type": "code",
   "execution_count": null,
   "metadata": {},
   "outputs": [],
   "source": [
    "print(format(123.456,'10.2f'))\n",
    "print(format(12345.678),'10.2f')"
   ]
  },
  {
   "cell_type": "code",
   "execution_count": null,
   "metadata": {},
   "outputs": [],
   "source": [
    "print('i=%d'%100)\n",
    "print('i=%d,j=%d'%(100,200))"
   ]
  },
  {
   "cell_type": "code",
   "execution_count": null,
   "metadata": {},
   "outputs": [],
   "source": [
    "print('Price:$ %8.2f'%(356.08977))\n",
    "print('%10.2f %10.2f' %(123.456,345.789))\n",
    "print('%10.2f %5d'%(123.456,100))\n",
    "print('radius=%d, area = %7.2f'%(5,5*5*3.14159))\n",
    "print('Raidus:{a:3d},Area:{b:10.2f}'.format(a=5,b=5*5*3.14159))"
   ]
  },
  {
   "cell_type": "code",
   "execution_count": null,
   "metadata": {},
   "outputs": [],
   "source": [
    "print('%.2f degree Celsius in Fahrenheit\\\n",
    "    is %.2f'%(3.25,3.25*1.8+32))\n",
    "print('%.2f degree Celsius in Fahrenheit\\\n",
    "    is %.2f'%(94.5,(94.5-32)/1.8))"
   ]
  },
  {
   "cell_type": "code",
   "execution_count": null,
   "metadata": {},
   "outputs": [],
   "source": [
    "print('%-15s %-10s'%('Month','Amount'))\n",
    "print('%-15d %-10.2f'%(1,43400.2))\n",
    "print('%-15d %-10.2f'%(2,45430.28))\n",
    "print('%-15d %-10.2f'%(3,48030.48))\n",
    "print('%-15d %-10.2f'%(4,51112.96))\n",
    "print('%-15d %-10.2f'%(5,52857.2))"
   ]
  },
  {
   "cell_type": "code",
   "execution_count": null,
   "metadata": {},
   "outputs": [],
   "source": [
    "print('|%10d %9d %9d|'%(12345,12,1234567))"
   ]
  },
  {
   "cell_type": "code",
   "execution_count": null,
   "metadata": {},
   "outputs": [],
   "source": [
    "print('Radius:{a:3d},Area:{b:10.2f}'.format(a=5,b=5*5*3.14159))"
   ]
  },
  {
   "cell_type": "code",
   "execution_count": null,
   "metadata": {},
   "outputs": [],
   "source": [
    "print(format(123.456,'10.2f'))"
   ]
  },
  {
   "cell_type": "code",
   "execution_count": null,
   "metadata": {},
   "outputs": [],
   "source": [
    "print('%-15d %-10.2f'%(1,43400.2))"
   ]
  },
  {
   "cell_type": "code",
   "execution_count": null,
   "metadata": {},
   "outputs": [],
   "source": [
    "print('x={0:5d},y={1:7d}'.format(123,12345))"
   ]
  },
  {
   "cell_type": "code",
   "execution_count": null,
   "metadata": {},
   "outputs": [],
   "source": [
    "print('Member {0:7s},discount{1:3.2f}'.format('Karen',0.35))\n",
    "print('Member {0:7s},discount{1:3.2f}'.format('Sammy',0.4))\n",
    "print('Member {0:7s},discount{1:3.2f}'.format('Jojo',0.42))"
   ]
  },
  {
   "cell_type": "code",
   "execution_count": null,
   "metadata": {},
   "outputs": [],
   "source": [
    "print('%20s%-20s'%('tall','short'))\n",
    "print('%20s%-20s'%('strong','weak'))\n",
    "print('%20s%-20s'%('thick','thin'))"
   ]
  },
  {
   "cell_type": "code",
   "execution_count": null,
   "metadata": {},
   "outputs": [],
   "source": [
    "print('%20s%-20s'%('Apple\\'s Products:','iPhone'))\n",
    "print('%20s%-20s'%('','iMac'))\n",
    "print('%20s%-20s'%('','Apple Watch'))\n",
    "print('%20s%-20s'%('','...'))"
   ]
  },
  {
   "cell_type": "code",
   "execution_count": null,
   "metadata": {},
   "outputs": [],
   "source": [
    "print('%-15s %7s'%('City','Celsius'))\n",
    "print('%-15s %7.2f'%('Taipei',33.2)\n",
    "print('%-15s %7.2f'%('Yilan',32.93)\n",
    "print('%-15s %7.2f'%('MiaoLi',32.29)\n",
    "print('%-15s %7.2f'%('Taichung',32.48)\n",
    "print('%-15s %7.2f'%('Hualian',33.87)"
   ]
  },
  {
   "cell_type": "code",
   "execution_count": null,
   "metadata": {},
   "outputs": [],
   "source": [
    "print('|%6d%6d%6d%6d|'%(22,44,66,88))\n",
    "print('|%-6d%-6d%-6d%-6d|'%(33,55,77,99))\n",
    "print('|%6d%6d%6d%6d|'%(222,444,666,888))\n",
    "print('|%-6d%-6d%-6d%-6d|'%(333,555,777,999))"
   ]
  },
  {
   "cell_type": "code",
   "execution_count": null,
   "metadata": {},
   "outputs": [],
   "source": [
    " a= 7 + 8 * 2 - 6 + 8/2\n",
    "print(a)"
   ]
  },
  {
   "cell_type": "code",
   "execution_count": null,
   "metadata": {},
   "outputs": [],
   "source": [
    "b=(7+8)*2-(6+8)/2\n",
    "print(b)"
   ]
  },
  {
   "cell_type": "code",
   "execution_count": null,
   "metadata": {},
   "outputs": [],
   "source": [
    " str1 = 'Learnimg Python ' + 'is fun'\n",
    "print(str1)"
   ]
  },
  {
   "cell_type": "code",
   "execution_count": null,
   "metadata": {},
   "outputs": [],
   "source": [
    "str2 = 'Learning Python '+ \\\n",
    "    'is fun'\n",
    "print(str2)"
   ]
  },
  {
   "cell_type": "code",
   "execution_count": null,
   "metadata": {},
   "outputs": [],
   "source": [
    "question1 = 'Is your birthday in set1?\\n' +\\\n",
    "    '1 3 5 7\\n' +\\\n",
    "    '9 11 13 15\\n'+\\\n",
    "    '17 19 21 23\\n' +\\\n",
    "    '25 27 29 31\\n' +\\\n",
    "    '\\n Enter 1 for Yes and 0 for No:'\n",
    "print(question1)"
   ]
  },
  {
   "cell_type": "code",
   "execution_count": null,
   "metadata": {},
   "outputs": [],
   "source": [
    "print('Hello,world')\n",
    "print('Hello,',end='')\n",
    "print('world')\n",
    "s='Hello,'+\\\n",
    "    'world'\n",
    "print(s)"
   ]
  },
  {
   "cell_type": "code",
   "execution_count": null,
   "metadata": {},
   "outputs": [],
   "source": [
    "8/3"
   ]
  },
  {
   "cell_type": "code",
   "execution_count": null,
   "metadata": {},
   "outputs": [],
   "source": [
    "8//3"
   ]
  },
  {
   "cell_type": "code",
   "execution_count": null,
   "metadata": {},
   "outputs": [],
   "source": [
    "8**2"
   ]
  },
  {
   "cell_type": "code",
   "execution_count": null,
   "metadata": {},
   "outputs": [],
   "source": [
    "100**0.5"
   ]
  },
  {
   "cell_type": "code",
   "execution_count": null,
   "metadata": {},
   "outputs": [],
   "source": [
    "8%3"
   ]
  },
  {
   "cell_type": "code",
   "execution_count": null,
   "metadata": {},
   "outputs": [],
   "source": [
    "i=100\n",
    "j=100\n",
    "k=100\n",
    "print(i,j,k)"
   ]
  },
  {
   "cell_type": "code",
   "execution_count": null,
   "metadata": {},
   "outputs": [],
   "source": [
    "i=j=k=200\n",
    "print(i,j,k)"
   ]
  },
  {
   "cell_type": "code",
   "execution_count": null,
   "metadata": {},
   "outputs": [],
   "source": [
    "a,b=100,200\n",
    "print(a,b)"
   ]
  },
  {
   "cell_type": "code",
   "execution_count": null,
   "metadata": {},
   "outputs": [],
   "source": [
    "a=100\n",
    "b=200\n",
    "a=b\n",
    "b=a\n",
    "print(a,b)"
   ]
  },
  {
   "cell_type": "code",
   "execution_count": null,
   "metadata": {},
   "outputs": [],
   "source": [
    "a=100\n",
    "b=200\n",
    "temp = a\n",
    "a=b\n",
    "b=temp\n",
    "print(a,b)"
   ]
  },
  {
   "cell_type": "code",
   "execution_count": null,
   "metadata": {},
   "outputs": [],
   "source": [
    "a=100\n",
    "b=200\n",
    "a,b = b,a\n",
    "print(a,b)"
   ]
  },
  {
   "cell_type": "code",
   "execution_count": null,
   "metadata": {},
   "outputs": [],
   "source": [
    "a=10\n",
    "a+=2\n",
    "print(a)"
   ]
  },
  {
   "cell_type": "code",
   "execution_count": null,
   "metadata": {},
   "outputs": [],
   "source": [
    "a*=5\n",
    "print(a)"
   ]
  },
  {
   "cell_type": "code",
   "execution_count": null,
   "metadata": {},
   "outputs": [],
   "source": [
    "a//=3\n",
    "print(a)"
   ]
  },
  {
   "cell_type": "code",
   "execution_count": null,
   "metadata": {},
   "outputs": [],
   "source": [
    "a%=6\n",
    "print(a)"
   ]
  },
  {
   "cell_type": "code",
   "execution_count": null,
   "metadata": {},
   "outputs": [],
   "source": [
    "k=eval(input())"
   ]
  },
  {
   "cell_type": "code",
   "execution_count": null,
   "metadata": {},
   "outputs": [],
   "source": [
    "k"
   ]
  },
  {
   "cell_type": "code",
   "execution_count": null,
   "metadata": {},
   "outputs": [],
   "source": [
    "print(k)"
   ]
  },
  {
   "cell_type": "code",
   "execution_count": null,
   "metadata": {},
   "outputs": [],
   "source": [
    "s = eval(input('Please enter an interger'))"
   ]
  },
  {
   "cell_type": "code",
   "execution_count": null,
   "metadata": {},
   "outputs": [],
   "source": [
    "s"
   ]
  },
  {
   "cell_type": "code",
   "execution_count": null,
   "metadata": {},
   "outputs": [],
   "source": [
    "s2 = input ('Please enter a string:')"
   ]
  },
  {
   "cell_type": "code",
   "execution_count": null,
   "metadata": {},
   "outputs": [],
   "source": [
    "s2"
   ]
  },
  {
   "cell_type": "code",
   "execution_count": null,
   "metadata": {},
   "outputs": [],
   "source": [
    "print(s2)"
   ]
  },
  {
   "cell_type": "code",
   "execution_count": null,
   "metadata": {},
   "outputs": [],
   "source": [
    "str2 = input('Please enter an integer')"
   ]
  },
  {
   "cell_type": "code",
   "execution_count": null,
   "metadata": {},
   "outputs": [],
   "source": [
    "print(str2)"
   ]
  },
  {
   "cell_type": "code",
   "execution_count": null,
   "metadata": {},
   "outputs": [],
   "source": [
    "str2"
   ]
  },
  {
   "cell_type": "code",
   "execution_count": null,
   "metadata": {},
   "outputs": [],
   "source": [
    "str2 = eval(input('Please enter an integer:'))"
   ]
  },
  {
   "cell_type": "code",
   "execution_count": null,
   "metadata": {},
   "outputs": [],
   "source": [
    "num = str2 +100\n",
    "print(num)"
   ]
  },
  {
   "cell_type": "code",
   "execution_count": null,
   "metadata": {},
   "outputs": [],
   "source": [
    "num1 = eval(input('Please enter number1:'))\n"
   ]
  },
  {
   "cell_type": "code",
   "execution_count": null,
   "metadata": {},
   "outputs": [],
   "source": [
    "num2=eval(input('Please enter number2:'))"
   ]
  },
  {
   "cell_type": "code",
   "execution_count": null,
   "metadata": {},
   "outputs": [],
   "source": [
    "print(num1 + num2)"
   ]
  },
  {
   "cell_type": "code",
   "execution_count": null,
   "metadata": {},
   "outputs": [],
   "source": [
    "num1,num2 = eval(input('Enter two nembers separated by comma:'))"
   ]
  },
  {
   "cell_type": "code",
   "execution_count": null,
   "metadata": {},
   "outputs": [],
   "source": [
    "print(num1+num2)"
   ]
  },
  {
   "cell_type": "code",
   "execution_count": null,
   "metadata": {},
   "outputs": [],
   "source": [
    "num1,num2,num3=eval(input('Enter three numbers separated by commas:'))\n",
    "total = num1+num2+num3\n",
    "average=total/3\n",
    "print('total = %d,and average = %f'%(total,average))"
   ]
  },
  {
   "cell_type": "code",
   "execution_count": null,
   "metadata": {},
   "outputs": [],
   "source": [
    "print('total = %d,and average = %.2f'%(total, average))"
   ]
  },
  {
   "cell_type": "code",
   "execution_count": null,
   "metadata": {},
   "outputs": [],
   "source": [
    "radius = eval(input('Enter the radius:'))\n",
    "area = radius * radius * 3.14159\n",
    "perimeter = 2 * 3.14159 *radius\n",
    "print('Area = %.2f'%(area))\n",
    "print('Perimeter = %.2f'%(perimeter))"
   ]
  },
  {
   "cell_type": "code",
   "execution_count": null,
   "metadata": {},
   "outputs": [],
   "source": [
    "import math\n",
    "radius = eval(input('Enter the radius:'))\n",
    "area = radius * radius * math.pi\n",
    "perimeter = 2* math.pi * radius\n",
    "print('Area = %.2f'%(area))\n"
   ]
  },
  {
   "cell_type": "code",
   "execution_count": null,
   "metadata": {},
   "outputs": [],
   "source": [
    "#This program display learning Python now!,and Python is fun."
   ]
  },
  {
   "cell_type": "code",
   "execution_count": null,
   "metadata": {},
   "outputs": [],
   "source": [
    "'''\n",
    "This program display learning Python now!,\n",
    "and Python is fun\n",
    "'''"
   ]
  },
  {
   "cell_type": "code",
   "execution_count": null,
   "metadata": {},
   "outputs": [],
   "source": [
    "#input 3 integers then calculate total and average\n",
    "num1, num2, num3 = eval(input('Enter three numbers separated by commas:'))\n",
    "\n",
    "#calculate total and average\n",
    "total = num1 + num2 + num3\n",
    "average = total /2\n",
    "\n",
    "#display total and average\n",
    "print('total = %d, and average = %.2f'%(total,average))"
   ]
  },
  {
   "cell_type": "code",
   "execution_count": null,
   "metadata": {},
   "outputs": [],
   "source": [
    "a = 100\n",
    "b = 200\n",
    "c,d =a, b\n",
    "print(c,d)\n",
    "print(c)\n",
    "print(d)\n",
    "print()"
   ]
  },
  {
   "cell_type": "code",
   "execution_count": null,
   "metadata": {},
   "outputs": [],
   "source": [
    "a = 100\n",
    "b = 200\n",
    "c,d =a, b\n",
    "print(c,d)\n",
    "print(c,end='')\n",
    "print(d,end='***')\n",
    "print('Over')"
   ]
  },
  {
   "cell_type": "code",
   "execution_count": null,
   "metadata": {},
   "outputs": [],
   "source": [
    "a = 100\n",
    "b = 200\n",
    "c,d =a, b\n",
    "print(c,d)\n",
    "print(c,end='$')\n",
    "print('and')\n",
    "print(d,end='***')\n",
    "print('Over')"
   ]
  },
  {
   "cell_type": "code",
   "execution_count": null,
   "metadata": {},
   "outputs": [],
   "source": [
    "x = 100\n",
    "y = 3\n",
    "print(x * y)\n",
    "print(x / y)\n",
    "print(x // y)\n",
    "print(x % y)\n",
    "print(x ** y)\n",
    "print(x ** 0.5)"
   ]
  },
  {
   "cell_type": "code",
   "execution_count": null,
   "metadata": {},
   "outputs": [],
   "source": [
    "str1 = 'Hello,'\n",
    "str2 = \"Python\"\n",
    "str3 = str1+str2\n",
    "print(str3)\n",
    "a = 100\n",
    "b = 200\n",
    "c = a + b\n",
    "print(c)"
   ]
  },
  {
   "cell_type": "code",
   "execution_count": null,
   "metadata": {},
   "outputs": [],
   "source": [
    "str1 = 'Hello,'+\\\n",
    "    'Python,Let\\'s learning'\n",
    "str2 = \" Python now\"\n",
    "str3 = str1 +str2\n",
    "print(str3)"
   ]
  },
  {
   "cell_type": "code",
   "execution_count": null,
   "metadata": {},
   "outputs": [],
   "source": [
    "a=100\n",
    "b=3\n",
    "a//=b\n",
    "print(a)\n",
    "\n",
    "a=100\n",
    "a%=b\n",
    "print(a)\n",
    "\n",
    "a=100\n",
    "a/=b\n",
    "print(a)"
   ]
  },
  {
   "cell_type": "code",
   "execution_count": null,
   "metadata": {},
   "outputs": [],
   "source": [
    "a=100\n",
    "b=200\n",
    "print(a,b)\n",
    "\n",
    "b,a = a,b\n",
    "print(a,b)"
   ]
  },
  {
   "cell_type": "code",
   "execution_count": null,
   "metadata": {},
   "outputs": [],
   "source": [
    "a=100\n",
    "b=200\n",
    "print(a,b)\n",
    "\n",
    "temp = a\n",
    "a=b\n",
    "b=temp\n",
    "print(a,b)"
   ]
  },
  {
   "cell_type": "code",
   "execution_count": null,
   "metadata": {},
   "outputs": [],
   "source": [
    "a=eval(input('Enter an integer:'))\n",
    "b = a +100\n",
    "print(a,b)\n",
    "\n",
    "str1 = input('Enter a string:')\n",
    "str2 = str1 + 'i8'\n",
    "print(str2)"
   ]
  },
  {
   "cell_type": "code",
   "execution_count": null,
   "metadata": {},
   "outputs": [],
   "source": [
    "str1 = 'Hello,'+\\\n",
    "    'Python,Let\\'s learning'\n",
    "str2 = \" Python now\"\n",
    "str3 = str1 +str2\n",
    "print(str3)"
   ]
  },
  {
   "cell_type": "code",
   "execution_count": null,
   "metadata": {},
   "outputs": [],
   "source": [
    "#Convert Fahrenheit to Ceisius\n",
    "print('Fahrenheit 212 is Celsius degree')\n",
    "print(5/9 * 212-32)"
   ]
  },
  {
   "cell_type": "code",
   "execution_count": null,
   "metadata": {},
   "outputs": [],
   "source": [
    "#change a and b\n",
    "a=100\n",
    "b=200\n",
    "print(a,b)\n",
    "\n",
    "temp = b\n",
    "b = a\n",
    "a = temp\n",
    "print(a,b)"
   ]
  },
  {
   "cell_type": "code",
   "execution_count": null,
   "metadata": {
    "scrolled": true
   },
   "outputs": [],
   "source": [
    "a = input('Enter an integer:')\n",
    "b=a+100\n",
    "print(a,b)\n"
   ]
  },
  {
   "cell_type": "code",
   "execution_count": null,
   "metadata": {},
   "outputs": [],
   "source": [
    "a = eval(input('Enter an integer:'))\n",
    "b=a+100\n",
    "print(a;b)"
   ]
  },
  {
   "cell_type": "code",
   "execution_count": null,
   "metadata": {},
   "outputs": [],
   "source": [
    "#Display two messages\n",
    "a=100\n",
    "b=200\n",
    "print(a,b)"
   ]
  },
  {
   "cell_type": "code",
   "execution_count": null,
   "metadata": {},
   "outputs": [],
   "source": [
    "abs(-100)"
   ]
  },
  {
   "cell_type": "code",
   "execution_count": null,
   "metadata": {},
   "outputs": [],
   "source": [
    "max(12,23,100,58,60)"
   ]
  },
  {
   "cell_type": "code",
   "execution_count": null,
   "metadata": {},
   "outputs": [],
   "source": [
    "min(12,23,100,58,60)"
   ]
  },
  {
   "cell_type": "code",
   "execution_count": null,
   "metadata": {},
   "outputs": [],
   "source": [
    "pow(2,5)"
   ]
  },
  {
   "cell_type": "code",
   "execution_count": null,
   "metadata": {},
   "outputs": [],
   "source": [
    "round(6.6)"
   ]
  },
  {
   "cell_type": "code",
   "execution_count": null,
   "metadata": {},
   "outputs": [],
   "source": [
    "round(5.5)"
   ]
  },
  {
   "cell_type": "code",
   "execution_count": null,
   "metadata": {},
   "outputs": [],
   "source": [
    "round(4.5)"
   ]
  },
  {
   "cell_type": "code",
   "execution_count": null,
   "metadata": {},
   "outputs": [],
   "source": [
    "round(6.667,2)"
   ]
  },
  {
   "cell_type": "code",
   "execution_count": null,
   "metadata": {},
   "outputs": [],
   "source": [
    "round(6.663,2)"
   ]
  },
  {
   "cell_type": "code",
   "execution_count": null,
   "metadata": {},
   "outputs": [],
   "source": [
    "int(12.34)"
   ]
  },
  {
   "cell_type": "code",
   "execution_count": null,
   "metadata": {},
   "outputs": [],
   "source": [
    "ans=8.5*8.5*8.5*8.5*8.5+(9.5-3)*(9.5-3)+100.2\n",
    "print(int(ans))"
   ]
  },
  {
   "cell_type": "code",
   "execution_count": null,
   "metadata": {},
   "outputs": [],
   "source": [
    "ans= pow(8.5,5)+pow((9.5-3),2)+100.2\n",
    "print(int(ans))"
   ]
  },
  {
   "cell_type": "code",
   "execution_count": null,
   "metadata": {},
   "outputs": [],
   "source": [
    "import math"
   ]
  },
  {
   "cell_type": "code",
   "execution_count": null,
   "metadata": {},
   "outputs": [],
   "source": [
    "math.fabs(-12.34)"
   ]
  },
  {
   "cell_type": "code",
   "execution_count": null,
   "metadata": {},
   "outputs": [],
   "source": [
    "math.ceil(5.6)"
   ]
  },
  {
   "cell_type": "code",
   "execution_count": null,
   "metadata": {},
   "outputs": [],
   "source": [
    "math.floor(5.6)"
   ]
  },
  {
   "cell_type": "code",
   "execution_count": null,
   "metadata": {},
   "outputs": [],
   "source": [
    "math.exp(1)"
   ]
  },
  {
   "cell_type": "code",
   "execution_count": null,
   "metadata": {},
   "outputs": [],
   "source": [
    "math.log(2.71828)"
   ]
  },
  {
   "cell_type": "code",
   "execution_count": null,
   "metadata": {},
   "outputs": [],
   "source": [
    "print('%.2f'%math.log(2.71828))"
   ]
  },
  {
   "cell_type": "code",
   "execution_count": null,
   "metadata": {},
   "outputs": [],
   "source": [
    "math.log(math.e)"
   ]
  },
  {
   "cell_type": "code",
   "execution_count": null,
   "metadata": {},
   "outputs": [],
   "source": [
    "math.log(1000,10)"
   ]
  },
  {
   "cell_type": "code",
   "execution_count": null,
   "metadata": {},
   "outputs": [],
   "source": [
    "math.sqrt(100)"
   ]
  },
  {
   "cell_type": "code",
   "execution_count": null,
   "metadata": {},
   "outputs": [],
   "source": [
    "math.sin(0)"
   ]
  },
  {
   "cell_type": "code",
   "execution_count": null,
   "metadata": {},
   "outputs": [],
   "source": [
    "math.sin(1/2 * math.pi)"
   ]
  },
  {
   "cell_type": "code",
   "execution_count": null,
   "metadata": {},
   "outputs": [],
   "source": [
    "math.sin(math.pi)"
   ]
  },
  {
   "cell_type": "code",
   "execution_count": null,
   "metadata": {},
   "outputs": [],
   "source": [
    "math.sin(3/2 * math.pi)"
   ]
  },
  {
   "cell_type": "code",
   "execution_count": null,
   "metadata": {},
   "outputs": [],
   "source": [
    "math.sin(2*math.pi)"
   ]
  },
  {
   "cell_type": "code",
   "execution_count": null,
   "metadata": {},
   "outputs": [],
   "source": [
    "math.cos(0)"
   ]
  },
  {
   "cell_type": "code",
   "execution_count": null,
   "metadata": {},
   "outputs": [],
   "source": [
    "math.cos(1/2 * math.pi)"
   ]
  },
  {
   "cell_type": "code",
   "execution_count": null,
   "metadata": {},
   "outputs": [],
   "source": [
    "math.cos(2 * math.pi)"
   ]
  },
  {
   "cell_type": "code",
   "execution_count": null,
   "metadata": {},
   "outputs": [],
   "source": [
    "math.cos(3/2 * math.pi)"
   ]
  },
  {
   "cell_type": "code",
   "execution_count": null,
   "metadata": {},
   "outputs": [],
   "source": [
    "math.tan(0)"
   ]
  },
  {
   "cell_type": "code",
   "execution_count": null,
   "metadata": {},
   "outputs": [],
   "source": [
    "math.tan(1/4*math.pi)"
   ]
  },
  {
   "cell_type": "code",
   "execution_count": null,
   "metadata": {},
   "outputs": [],
   "source": [
    "math.tan(5/4 * math.pi)"
   ]
  },
  {
   "cell_type": "code",
   "execution_count": null,
   "metadata": {},
   "outputs": [],
   "source": [
    "math.tan(-1/4 * math.pi)"
   ]
  },
  {
   "cell_type": "code",
   "execution_count": null,
   "metadata": {},
   "outputs": [],
   "source": [
    "math.tan(3/4 * math.pi)"
   ]
  },
  {
   "cell_type": "code",
   "execution_count": null,
   "metadata": {},
   "outputs": [],
   "source": [
    "math.tan(math.pi)"
   ]
  },
  {
   "cell_type": "code",
   "execution_count": null,
   "metadata": {},
   "outputs": [],
   "source": [
    "math.tan(0)"
   ]
  },
  {
   "cell_type": "code",
   "execution_count": null,
   "metadata": {},
   "outputs": [],
   "source": [
    "math.radians(90)"
   ]
  },
  {
   "cell_type": "code",
   "execution_count": null,
   "metadata": {},
   "outputs": [],
   "source": [
    "math.radians(180)"
   ]
  },
  {
   "cell_type": "code",
   "execution_count": null,
   "metadata": {},
   "outputs": [],
   "source": [
    "math.degrees(1/2 * math.pi)"
   ]
  },
  {
   "cell_type": "code",
   "execution_count": null,
   "metadata": {},
   "outputs": [],
   "source": [
    "math.degrees(math.pi)"
   ]
  },
  {
   "cell_type": "code",
   "execution_count": null,
   "metadata": {},
   "outputs": [],
   "source": [
    "import math\n",
    "side = eval(input('Enter the length of side:'))\n",
    "area = (5*pow(side,2))/(4*math.tan(math.pi/5))\n",
    "print(area)"
   ]
  },
  {
   "cell_type": "code",
   "execution_count": null,
   "metadata": {},
   "outputs": [],
   "source": [
    "import math\n",
    "n1,n2,n3 = eval(input('Enter threes numbers:'))\n",
    "mean = (n1+n2+n3)/3\n",
    "variance = (pow((n1-mean),2)+pow((n2-mean),2)+pow((n3-mean),2))/3\n",
    "sd = math.sqrt(variance)\n",
    "\n",
    "print('variance is %.2f,and standand deviation is %.sf'%(variance,sd))"
   ]
  },
  {
   "cell_type": "code",
   "execution_count": null,
   "metadata": {},
   "outputs": [],
   "source": [
    "str(12.3)"
   ]
  },
  {
   "cell_type": "code",
   "execution_count": null,
   "metadata": {},
   "outputs": [],
   "source": [
    "str(12)"
   ]
  },
  {
   "cell_type": "code",
   "execution_count": null,
   "metadata": {},
   "outputs": [],
   "source": [
    "ord('A')"
   ]
  },
  {
   "cell_type": "code",
   "execution_count": null,
   "metadata": {},
   "outputs": [],
   "source": [
    "ord('a')"
   ]
  },
  {
   "cell_type": "code",
   "execution_count": null,
   "metadata": {},
   "outputs": [],
   "source": [
    "chr(65)"
   ]
  },
  {
   "cell_type": "code",
   "execution_count": null,
   "metadata": {},
   "outputs": [],
   "source": [
    "chr(97)"
   ]
  },
  {
   "cell_type": "code",
   "execution_count": null,
   "metadata": {},
   "outputs": [],
   "source": [
    "a= -888\n",
    "b= 100\n",
    "c= 10\n",
    "d= 2\n",
    "e= 0.5\n",
    "print(abs(a))\n",
    "print(max(a,b,c,d,e))\n",
    "print(min(a,b,c,d,e))\n",
    "print(pow(c,d))\n",
    "print(round(7.5))\n",
    "print(round(6.5))\n",
    "print(int(123.456))\n",
    "print(round(123.456))"
   ]
  },
  {
   "cell_type": "code",
   "execution_count": null,
   "metadata": {},
   "outputs": [],
   "source": [
    "import math\n",
    "a = math.fabs(-123.45)\n",
    "print(a)\n",
    "\n",
    "b = math.ceil(8.8)\n",
    "print(b)\n",
    "\n",
    "c = math.floor(8.8)\n",
    "print(c)\n",
    "\n",
    "d = math.exp(1)\n",
    "print(d)\n",
    "\n",
    "e = math.log(100)\n",
    "print(e)\n",
    "\n",
    "f = math.log(100,10)\n",
    "print(f)\n",
    "\n",
    "g = math.sqrt(1000000)\n",
    "print(g)"
   ]
  },
  {
   "cell_type": "code",
   "execution_count": null,
   "metadata": {},
   "outputs": [],
   "source": [
    "m = math.tan(0)\n",
    "print(m)\n",
    "\n",
    "n = math.tan(2*math.pi)\n",
    "print(n)\n",
    "\n",
    "p = math.degrees(2*math.pi)\n",
    "print(p)\n",
    "\n",
    "q = math.radians(360)\n",
    "print(q)"
   ]
  },
  {
   "cell_type": "code",
   "execution_count": null,
   "metadata": {},
   "outputs": [],
   "source": [
    "x = 'Apple i'+ str(8)\n",
    "print(x)\n",
    "\n",
    "y = ord('Z')\n",
    "print(y)\n",
    "\n",
    "z = chr(100)\n",
    "print(z)"
   ]
  },
  {
   "cell_type": "code",
   "execution_count": null,
   "metadata": {},
   "outputs": [],
   "source": [
    "f1 = math.log(10000,10)\n",
    "print(f1)"
   ]
  },
  {
   "cell_type": "code",
   "execution_count": null,
   "metadata": {},
   "outputs": [],
   "source": [
    "g1 = math.sqrt(10000)\n",
    "print(g1)"
   ]
  },
  {
   "cell_type": "code",
   "execution_count": null,
   "metadata": {},
   "outputs": [],
   "source": [
    "h1 = math.tan(0)\n",
    "print(h1)"
   ]
  },
  {
   "cell_type": "code",
   "execution_count": null,
   "metadata": {},
   "outputs": [],
   "source": [
    "p1 = max(1,2,4,78,300)\n",
    "print(p1)"
   ]
  },
  {
   "cell_type": "code",
   "execution_count": null,
   "metadata": {},
   "outputs": [],
   "source": [
    "q1 = abs(-101)\n",
    "print(q1)"
   ]
  },
  {
   "cell_type": "code",
   "execution_count": null,
   "metadata": {},
   "outputs": [],
   "source": [
    "r1 = int(97)\n",
    "print(r1)"
   ]
  },
  {
   "cell_type": "code",
   "execution_count": null,
   "metadata": {},
   "outputs": [],
   "source": [
    "X = 65\n",
    "if X > 60:\n",
    "    X=X+5\n",
    "print('X=%d'%(X))"
   ]
  },
  {
   "cell_type": "code",
   "execution_count": null,
   "metadata": {},
   "outputs": [],
   "source": [
    "numerator = eval(input(\"請輸入分子:\"))\n",
    "denominator = eval(input(\"請輸入分母:\"))\n",
    "if denominator !=0:\n",
    "    ans = numerator / denominator\n",
    "    print(numerator,\"/\",denominator,\"=\",ans)\n",
    "print(\"Over\")"
   ]
  },
  {
   "cell_type": "code",
   "execution_count": null,
   "metadata": {},
   "outputs": [],
   "source": [
    "number = eval(input(\"Please input a number:\"))\n",
    "if number % 5 = 0:\n",
    "    print(number,\"is 5's multiple\")\n",
    "print(\"Over\")    "
   ]
  },
  {
   "cell_type": "code",
   "execution_count": null,
   "metadata": {},
   "outputs": [],
   "source": [
    "numerator = eval(input(\"請輸入分子:\"))\n",
    "denominator = eval(input(\"請輸入分母:\"))\n",
    "if denominator !=0:\n",
    "    ans = numerator / denominator\n",
    "    print(numerator,\"/\",denominator,\"=\",ans)\n",
    "else:\n",
    "    print(\"分母不可為0\")\n",
    "print(\"Over\")"
   ]
  },
  {
   "cell_type": "code",
   "execution_count": null,
   "metadata": {},
   "outputs": [],
   "source": [
    "num = eval(input(\"Please input a number:\"))\n",
    "if num % 2 == 0:\n",
    "    print(num,'is an even number.')\n",
    "else:\n",
    "    print(num,\"is a odd number.\")\n",
    "print(\"Over\")"
   ]
  },
  {
   "cell_type": "code",
   "execution_count": null,
   "metadata": {},
   "outputs": [],
   "source": [
    "number = eval(input(\"Please input a number:\"))\n",
    "if number > 0:\n",
    "    print(number,\"is greater than 0\")\n",
    "else:\n",
    "    if number <0:\n",
    "        print(number,\"is less than 0\")\n",
    "    else:\n",
    "        print(number,\"is equal to 0\")\n",
    "print(\"Over\")"
   ]
  },
  {
   "cell_type": "code",
   "execution_count": null,
   "metadata": {},
   "outputs": [],
   "source": [
    "number = eval(input(\"Please input a number:\"))\n",
    "if number > 0:\n",
    "    print(number,\"is greater than 0\")\n",
    "elif number <0:\n",
    "        print(number,\"is less than 0\")\n",
    "else:\n",
    "    print(number,\"is equal to 0\")\n",
    "print(\"Over\")"
   ]
  },
  {
   "cell_type": "code",
   "execution_count": null,
   "metadata": {},
   "outputs": [],
   "source": [
    "score = eval(input(\"Please input your score:\"))\n",
    "if score >=80:\n",
    "    print(\"Grade A\")\n",
    "elif score >= 70:\n",
    "    print(\"Grade B\")\n",
    "elif score >= 60:\n",
    "    print(\"Grade C\")\n",
    "elif score >= 50:\n",
    "    print(\"Grade D\")\n",
    "else:\n",
    "    print(\"Grade E\")"
   ]
  },
  {
   "cell_type": "code",
   "execution_count": null,
   "metadata": {},
   "outputs": [],
   "source": [
    "weight = eval(input(\"Please input your weight(kilogram):\"))\n",
    "height = eval(input(\"Please input your height(centimeter):\"))\n",
    "heightInCentimeter = (height)\n",
    "\n",
    "bmi = weight / (heightInCentimeter*heightInCentimeter)\n",
    "\n",
    "if bmi <18.5:\n",
    "    print(\"Underweight\")\n",
    "elif bmi <25:\n",
    "    print(\"Normal\")\n",
    "elif bmi <30:\n",
    "    print(\"Overweight\")\n",
    "else:\n",
    "    print(Obese)"
   ]
  },
  {
   "cell_type": "code",
   "execution_count": null,
   "metadata": {},
   "outputs": [],
   "source": [
    "weight = eval(input(\"Please input your weight(kilogram):\"))\n",
    "height = eval(input(\"Please input your height(centimeter):\"))\n",
    "heightInMeters = height/100\n",
    "\n",
    "bmi = weight / (heightInMeters*heightInMeters)\n",
    "print(\"Your BMI is\",format(bmi,\".2f\"))\n",
    "\n",
    "if bmi <18.5:\n",
    "    print(\"Underweight\")\n",
    "elif bmi <25:\n",
    "    print(\"Normal\")\n",
    "elif bmi <30:\n",
    "    print(\"Overweight\")\n",
    "else:\n",
    "    print(Obese)"
   ]
  },
  {
   "cell_type": "code",
   "execution_count": null,
   "metadata": {},
   "outputs": [],
   "source": [
    "year = eval(input(\"Please enter which year?\"))\n",
    "if year % 400 == 0 or (year % 4 == 0 and year % 100!=0):\n",
    "    print(year,\"is leap year\")\n",
    "else:\n",
    "    print(year,\"is not leap year\")"
   ]
  },
  {
   "cell_type": "code",
   "execution_count": null,
   "metadata": {},
   "outputs": [],
   "source": [
    "year = eval(input(\"Please enter which year?\"))\n",
    "cond1 = year % 400 == 0\n",
    "cond2 = year % 4 == 0\n",
    "cond3 = year % 100 != 0\n",
    "if cond1 or(cond2 and cond3):\n",
    "    print(year,\"is leap year\")\n",
    "else:\n",
    "    print(year,\"is not leap year\")"
   ]
  },
  {
   "cell_type": "code",
   "execution_count": null,
   "metadata": {},
   "outputs": [],
   "source": [
    "number = eval(input(\"Please enter a number:\"))\n",
    "\n",
    "if number >=0:\n",
    "    print(number)\n",
    "else:\n",
    "    print(-number)"
   ]
  },
  {
   "cell_type": "code",
   "execution_count": null,
   "metadata": {},
   "outputs": [],
   "source": [
    "score = eval(input('Enter your score:'))\n",
    "if score >= 60:\n",
    "    print('you pass')\n",
    "else:\n",
    "    print('you fail')"
   ]
  },
  {
   "cell_type": "code",
   "execution_count": null,
   "metadata": {},
   "outputs": [],
   "source": [
    "number1= eval(input('Enter number1:'))\n",
    "number2= eval(input('Enter number2:'))\n",
    "\n",
    "operator = input('Enter an arithmetic operator(+,-,*,/):')\n",
    "result = 0\n",
    "flag = 0\n",
    "if operator == '+':\n",
    "    result = number1 + number2\n",
    "elif operator == '-':\n",
    "    result = number1 - number2\n",
    "elif operator == '*':\n",
    "    result = number1 * number2\n",
    "elif operator == '/':\n",
    "    result = number1 / number2\n",
    "else:\n",
    "    flag = 1\n",
    "    print('Invalid operator')\n",
    "        \n",
    "if flag != 1:\n",
    "    print('%4f%c%.4f = %.4f'%(number1,operator,number2,result))"
   ]
  },
  {
   "cell_type": "code",
   "execution_count": null,
   "metadata": {},
   "outputs": [],
   "source": [
    "age = eval(input(\"請輸入年齡:\"))\n",
    "state = \"\n",
    "\n",
    "if age < 6:\n",
    "    state = '童年'\n",
    "elif age < = 17:\n",
    "    state = '少年'\n",
    "elif age < = 40:\n",
    "    state = '青年'\n",
    "elif age < = 65:\n",
    "    state = '中年'\n",
    "else\n",
    "    state = '老年'\n",
    "    \n",
    "print('您的年齡屬於%s'%state)"
   ]
  },
  {
   "cell_type": "code",
   "execution_count": null,
   "metadata": {},
   "outputs": [],
   "source": [
    "day = 0\n",
    "question1 = \"Is your birthday in set1?\\n\"+\\\n",
    "    '1 3 5 7\\n'+\\\n",
    "    '9 11 13 15\\n'+\\\n",
    "    '17 19 21 23\\n'+\\\n",
    "    '25 27 29 31\\n'+\\\n",
    "    '\\nEnter 1 for Yes and 0 for No:'\n",
    "answer = eval(input(question1))\n",
    "\n",
    "if answer == 1:\n",
    "    day += 1\n",
    "    \n",
    "question2 = \"Is your birthday in set2?\\n\"+\\\n",
    "    '2 3 4 7\\n'+\\\n",
    "    '10 11 14 15\\n'+\\\n",
    "    '18 19 22 23\\n'+\\\n",
    "    '26 27 30 31\\n'+\\\n",
    "    '\\nEnter 1 for Yes and 0 for No:'\n",
    "answer = eval (input(question2))\n",
    "\n",
    "if answer == 1:\n",
    "    day += 2\n",
    "    \n",
    "question3 = \"Is your birthday in set3\\n\"+\\\n",
    "    '4 5 6 7\\n'+\\\n",
    "    '12 13 14 15\\n'+\\\n",
    "    '20 21 22 23\\n'+\\\n",
    "    '28 29 30 31\\n'+\\\n",
    "    '\\nEnter 1 for Yes and 0 for No:'\n",
    "answer = eval (input(question3))\n",
    "\n",
    "if answer == 1:\n",
    "    day +=4\n",
    "    \n",
    "question4 = \"Is your birthday in set1\\n\"+\\\n",
    "    '8 9 10 11\\n'+\\\n",
    "    '12 13 14 15\\n'+\\\n",
    "    '24 25 26 27\\n'+\\\n",
    "    '28 29 30 31\\n'+\\\n",
    "    '\\nEnter 1 for Yes and 0 for No:'\n",
    "answer = eval (input(question4))\n",
    "\n",
    "if answer ==1:\n",
    "    day +=8\n",
    "    \n",
    "question5 = \"Is your birthday in set3\\n\"+\\\n",
    "    '16 17 18 19\\n'+\\\n",
    "    '20 21 22 23\\n'+\\\n",
    "    '24 25 26 27\\n'+\\\n",
    "    '28 29 30 31\\n'+\\\n",
    "    '\\nEnter 1 for Yes and 0 for No:'\n",
    "answer = eval (input(question5))\n",
    "\n",
    "if answer ==1:\n",
    "    day += 16\n",
    "    \n",
    "print(\"Your birthday is\",day)"
   ]
  },
  {
   "cell_type": "code",
   "execution_count": null,
   "metadata": {},
   "outputs": [],
   "source": [
    "score = eval(input('Enter your score'))\n",
    "if score >= 60:\n",
    "    score += 10\n",
    "print('Your score is %d'%(score))"
   ]
  },
  {
   "cell_type": "code",
   "execution_count": null,
   "metadata": {},
   "outputs": [],
   "source": [
    "score = eval(input('Enter your score'))\n",
    "if score >= 60:\n",
    "    score += 10\n",
    "else:\n",
    "    score += 8\n",
    "print('Your score is %d'%(score))"
   ]
  },
  {
   "cell_type": "code",
   "execution_count": null,
   "metadata": {},
   "outputs": [],
   "source": [
    "print(\"Learning Python is fun!\")\n",
    "print(\"Learning Python is fun!\")\n",
    "print(\"Learning Python is fun!\")\n",
    "print(\"Learning Python is fun!\")\n",
    "print(\"Learning Python is fun!\")"
   ]
  },
  {
   "cell_type": "code",
   "execution_count": null,
   "metadata": {},
   "outputs": [],
   "source": [
    "temperature = eval(input('Enter temperature today:'))\n",
    "if temperature >= 28:\n",
    "    print('Hot')\n",
    "else:\n",
    "    print(\"Comfortable\")\n",
    "print('Over')"
   ]
  },
  {
   "cell_type": "code",
   "execution_count": null,
   "metadata": {},
   "outputs": [],
   "source": [
    "temperature = eval(input('Enter temperature today:'))\n",
    "if temperature >= 28:\n",
    "    print('Hot')\n",
    "elif temperature >= 22:\n",
    "    print('Comfortable')\n",
    "else:\n",
    "    print('Cold')\n",
    "print('Over')"
   ]
  },
  {
   "cell_type": "code",
   "execution_count": null,
   "metadata": {},
   "outputs": [],
   "source": [
    "temperature = eval(input('Enter temperature today:'))\n",
    "humility = eval(input('Enter humility today:'))\n",
    "if temperature >= 28:\n",
    "    print('Hot')\n",
    "elif temperature >= 22 and humility >= 40 and humility<=50:\n",
    "    print('Comfortable')\n",
    "else:\n",
    "    print('Cold')\n",
    "print('Over')"
   ]
  },
  {
   "cell_type": "code",
   "execution_count": null,
   "metadata": {},
   "outputs": [],
   "source": [
    "char = input('Enter a character:')\n",
    "if char >='a' and char <= 'z':\n",
    "    print('%c is lowercase character'%(char))\n",
    "elif char >='A' and char <= 'Z':\n",
    "    print('%c is uppercase character'%(char))\n",
    "else:\n",
    "    print('%c is other character'%(char))"
   ]
  },
  {
   "cell_type": "code",
   "execution_count": null,
   "metadata": {},
   "outputs": [],
   "source": [
    "num = eval(input('Enter a number:'))\n",
    "if num % 2 ==0:\n",
    "    print('%d'%(num),end='')\n",
    "    print('is even number.')\n",
    "else:\n",
    "    print('%d'%(num),end='')\n",
    "    print('is odd number.')\n",
    "print('Test is over')"
   ]
  },
  {
   "cell_type": "code",
   "execution_count": null,
   "metadata": {},
   "outputs": [],
   "source": [
    "radius = eval(input('Please input radius:'))\n",
    "\n",
    "if radius <= 0:\n",
    "    print(\"Negative is not invalid!!!\")\n",
    "else:\n",
    "    area =radius * radius *3.14158;\n",
    "print('radius=',radius)\n",
    "print('area=',area)"
   ]
  },
  {
   "cell_type": "code",
   "execution_count": null,
   "metadata": {},
   "outputs": [],
   "source": [
    "temperature = eval(input('Enter temperature today:'))\n",
    "if temperature >= 28:\n",
    "    print('Hot')\n",
    "elif temperature >= 22:\n",
    "    print('Comfortable')\n",
    "else:\n",
    "    print('Cold')\n",
    "print('Over')"
   ]
  },
  {
   "cell_type": "code",
   "execution_count": null,
   "metadata": {},
   "outputs": [],
   "source": [
    "score = eval(input('Enter your score'))\n",
    "if score >= 60:\n",
    "    score += 10\n",
    "else:\n",
    "    score += 8\n",
    "print('Your score is %d'%(score))"
   ]
  },
  {
   "cell_type": "code",
   "execution_count": null,
   "metadata": {},
   "outputs": [],
   "source": [
    "temperature = eval(input('Enter temperature today:'))\n",
    "humility = eval(input('Enter humility today:'))\n",
    "if temperature >= 28:\n",
    "    print('Hot')\n",
    "elif temperature >= 22 and humility >= 40 and humility<=50:\n",
    "    print('Comfortable')\n",
    "else:\n",
    "    print('Cold')\n",
    "print('Over')"
   ]
  },
  {
   "cell_type": "code",
   "execution_count": null,
   "metadata": {},
   "outputs": [],
   "source": [
    "year = eval(input(\"Please enter which year?\"))\n",
    "if year % 400 == 0 or (year % 4 == 0 and year % 100!=0):\n",
    "    print(year,\"is leap year\")\n",
    "else:\n",
    "    print(year,\"is not leap year\")"
   ]
  },
  {
   "cell_type": "code",
   "execution_count": null,
   "metadata": {},
   "outputs": [],
   "source": [
    "char = input('Enter a character:')\n",
    "if char >='a' and char <= 'z':\n",
    "    print('%c is lowercase character'%(char))\n",
    "elif char >='A' and char <= 'Z':\n",
    "    print('%c is uppercase character'%(char))\n",
    "else:\n",
    "    print('%c is other character'%(char))"
   ]
  },
  {
   "cell_type": "code",
   "execution_count": null,
   "metadata": {},
   "outputs": [],
   "source": [
    "num = eval(input('Enter a number:'))\n",
    "if num % 2 ==0:\n",
    "    print('%d'%(num),end='')\n",
    "    print('is even number.')\n",
    "else:\n",
    "    print('%d'%(num),end='')\n",
    "    print('is odd number.')\n",
    "print('Test is over')"
   ]
  },
  {
   "cell_type": "code",
   "execution_count": null,
   "metadata": {},
   "outputs": [],
   "source": [
    "count = 1\n",
    "while count <100:\n",
    "    print(\"Learning Python is fun!\")\n",
    "    count = count+1"
   ]
  },
  {
   "cell_type": "code",
   "execution_count": null,
   "metadata": {},
   "outputs": [],
   "source": [
    "print('Learning Python is fun!')\n",
    "count = count+1"
   ]
  },
  {
   "cell_type": "code",
   "execution_count": null,
   "metadata": {},
   "outputs": [],
   "source": [
    "total = 0\n",
    "total = 1+2+3+4+5+6+7+8+9+10\n",
    "print(\"1+2+3+4+5+6+...+10=\",total)"
   ]
  },
  {
   "cell_type": "code",
   "execution_count": null,
   "metadata": {},
   "outputs": [],
   "source": [
    "total = 0\n",
    "k = 1\n",
    "while k <=100:\n",
    "    total = total + k\n",
    "    k = k+1\n",
    "print('1+2+3+...+100=',total)"
   ]
  },
  {
   "cell_type": "code",
   "execution_count": null,
   "metadata": {},
   "outputs": [],
   "source": [
    "total = 0\n",
    "k = 100\n",
    "while k >=1:\n",
    "    total += k\n",
    "    k -= 1\n",
    "print('100+99+...+1=',total)"
   ]
  },
  {
   "cell_type": "code",
   "execution_count": null,
   "metadata": {},
   "outputs": [],
   "source": [
    "evenTotal = 0\n",
    "k = 2\n",
    "while k<= 100:\n",
    "    evenTotal = evenTotal + k\n",
    "    k = k+2\n",
    "print('2+4+6+...+100=',evenTotal)"
   ]
  },
  {
   "cell_type": "code",
   "execution_count": null,
   "metadata": {},
   "outputs": [],
   "source": [
    "for k in range(1,6):\n",
    "    print(k)"
   ]
  },
  {
   "cell_type": "code",
   "execution_count": null,
   "metadata": {},
   "outputs": [],
   "source": [
    "for k in range(6):\n",
    "    print(k)"
   ]
  },
  {
   "cell_type": "code",
   "execution_count": null,
   "metadata": {},
   "outputs": [],
   "source": [
    "for k in range(1,10,2):\n",
    "    print(k)"
   ]
  },
  {
   "cell_type": "code",
   "execution_count": null,
   "metadata": {},
   "outputs": [],
   "source": [
    "for k in range(10,1,-1):\n",
    "    print(k)"
   ]
  },
  {
   "cell_type": "code",
   "execution_count": null,
   "metadata": {},
   "outputs": [],
   "source": [
    "for k in range(10,1,-2):\n",
    "    print(k)"
   ]
  },
  {
   "cell_type": "code",
   "execution_count": null,
   "metadata": {},
   "outputs": [],
   "source": [
    "for k in range(10,2,-2):\n",
    "    print(k)"
   ]
  },
  {
   "cell_type": "code",
   "execution_count": null,
   "metadata": {},
   "outputs": [],
   "source": [
    "for k in range(1,10):\n",
    "    print('Learning Python is fun!')"
   ]
  },
  {
   "cell_type": "code",
   "execution_count": null,
   "metadata": {},
   "outputs": [],
   "source": [
    "total = 0\n",
    "for i in range(1,101):\n",
    "    total += i\n",
    "print('1+2+3+...+100=',total)"
   ]
  },
  {
   "cell_type": "code",
   "execution_count": null,
   "metadata": {},
   "outputs": [],
   "source": [
    "total = 0\n",
    "number = 0\n",
    "while True:\n",
    "    number += 1\n",
    "    total += number\n",
    "    if total >=100:\n",
    "        break\n",
    "print('The number is',number)\n",
    "print('Total is',total)"
   ]
  },
  {
   "cell_type": "code",
   "execution_count": null,
   "metadata": {},
   "outputs": [],
   "source": [
    "total = 0\n",
    "number = 0\n",
    "while True:\n",
    "    number += 2\n",
    "    total += number\n",
    "    if total >=1000:\n",
    "        break\n",
    "print('The number is',number)\n",
    "print('Total is',total)"
   ]
  },
  {
   "cell_type": "code",
   "execution_count": null,
   "metadata": {},
   "outputs": [],
   "source": [
    "total = 0\n",
    "number = 1\n",
    "while number <= 100:\n",
    "    if number % 5 == 0:\n",
    "        number += 1\n",
    "        continue\n",
    "    total += number\n",
    "    number += 1\n",
    "print('Total is',total)"
   ]
  },
  {
   "cell_type": "code",
   "execution_count": null,
   "metadata": {},
   "outputs": [],
   "source": [
    "total = 0\n",
    "number = 0\n",
    "while number <= 100:\n",
    "    number += 1\n",
    "    if number % 5 != 0:\n",
    "        continue\n",
    "    total += number\n",
    "    number += 1\n",
    "print('Total is',total)"
   ]
  },
  {
   "cell_type": "code",
   "execution_count": null,
   "metadata": {},
   "outputs": [],
   "source": [
    "total = 0\n",
    "number = 0\n",
    "while number <= 100:\n",
    "    number += 1\n",
    "    if number % 5 == 0:\n",
    "        break\n",
    "    total += number\n",
    "print('the total is',total)"
   ]
  },
  {
   "cell_type": "code",
   "execution_count": null,
   "metadata": {},
   "outputs": [],
   "source": [
    "oddTotal = 0\n",
    "k = 1\n",
    "while k <= 100:\n",
    "    oddTotal = oddTotal + k\n",
    "    k = k+2\n",
    "print('1+3+5+...+99=',oddTotal)"
   ]
  },
  {
   "cell_type": "code",
   "execution_count": null,
   "metadata": {},
   "outputs": [],
   "source": [
    "oddTotal = 0\n",
    "k = 1\n",
    "while k <= 100:\n",
    "    oddTotal += k\n",
    "    k += 2\n",
    "print('1+3+5+...+99=',oddTotal)"
   ]
  },
  {
   "cell_type": "code",
   "execution_count": null,
   "metadata": {},
   "outputs": [],
   "source": [
    "for i in range(1,10):\n",
    "    print('i=',i)\n",
    "    for j in range(1,10):\n",
    "        print('j=',j)\n",
    "    print('')"
   ]
  },
  {
   "cell_type": "code",
   "execution_count": null,
   "metadata": {},
   "outputs": [],
   "source": [
    "i = 10\n",
    "j = 20\n",
    "\n",
    "print('%d*%d=%3d'%(i,j,i*j))"
   ]
  },
  {
   "cell_type": "code",
   "execution_count": null,
   "metadata": {},
   "outputs": [],
   "source": [
    "for i in range(1,10):\n",
    "    for j in range(1,10):\n",
    "        print('%d*%d=%2d'%(i,j,i*j))"
   ]
  },
  {
   "cell_type": "code",
   "execution_count": null,
   "metadata": {},
   "outputs": [],
   "source": [
    "for i in range(1,10):\n",
    "    for j in range(1,10):\n",
    "        print('%d*%d=%2d'%(i,j,i*j),end='')"
   ]
  },
  {
   "cell_type": "code",
   "execution_count": null,
   "metadata": {},
   "outputs": [],
   "source": [
    "for i in range(1,10):\n",
    "    for j in range(1,10):\n",
    "        print('%d*%d=%2d'%(i,j,i*j),end='')\n",
    "    print()"
   ]
  },
  {
   "cell_type": "code",
   "execution_count": null,
   "metadata": {},
   "outputs": [],
   "source": [
    "for i in range(1,10):\n",
    "    for j in range(1,10):\n",
    "        print('%d*%d=%2d'%(j,i,i*j),end='')\n",
    "    print()"
   ]
  },
  {
   "cell_type": "code",
   "execution_count": null,
   "metadata": {},
   "outputs": [],
   "source": [
    "import random"
   ]
  },
  {
   "cell_type": "code",
   "execution_count": null,
   "metadata": {},
   "outputs": [],
   "source": [
    "random.random()"
   ]
  },
  {
   "cell_type": "raw",
   "metadata": {},
   "source": []
  },
  {
   "cell_type": "code",
   "execution_count": null,
   "metadata": {},
   "outputs": [],
   "source": [
    "random.randint(1,49)"
   ]
  },
  {
   "cell_type": "code",
   "execution_count": null,
   "metadata": {},
   "outputs": [],
   "source": [
    "random.randint(1,38)"
   ]
  },
  {
   "cell_type": "code",
   "execution_count": null,
   "metadata": {
    "scrolled": true
   },
   "outputs": [],
   "source": [
    "import random\n",
    "for i in range(1,101):\n",
    "    randomNumber = random.randint(1,100)\n",
    "    print(randomNumber,end=' ')"
   ]
  },
  {
   "cell_type": "code",
   "execution_count": null,
   "metadata": {
    "scrolled": true
   },
   "outputs": [],
   "source": [
    "import random\n",
    "evenCount= 0\n",
    "oddCount= 0\n",
    "for i in range(1,101):\n",
    "    randomNumber = random.randint(1,100)\n",
    "    print(randomNumber,end=' ')\n",
    "    if randomNumber % 2 ==0:\n",
    "        evenCount +=1\n",
    "oddCount = 100 - evenCount\n",
    "\n",
    "print('\\nEven number:',evenCount,'\\nOdd number:',oddCount)"
   ]
  },
  {
   "cell_type": "code",
   "execution_count": null,
   "metadata": {},
   "outputs": [],
   "source": [
    "import random\n",
    "evenCount= 0\n",
    "oddCount= 0\n",
    "\n",
    "for i in range(1,101):\n",
    "    randomNumber = random.randint(1,100)\n",
    "    if i % 10 ==0:\n",
    "        print('%5d'%(randomNumber))\n",
    "    else:\n",
    "        print('%5d'%(randomNumber),end = ' ')\n",
    "    if randomNumber % 2 ==0:\n",
    "        evenCount += 1\n",
    "oddCount = 100 - evenCount\n",
    "print('\\nEven number:',evenCount,'\\nOdd number:',oddCount)"
   ]
  },
  {
   "cell_type": "code",
   "execution_count": null,
   "metadata": {},
   "outputs": [],
   "source": [
    "number = eval(input('Please input an integer:'))\n",
    "divisor = 2\n",
    "flag = 1\n",
    "while divisor < number:\n",
    "    if number % divisor ==0:\n",
    "        #If true, number is not prime number\n",
    "        flag = 0\n",
    "        break\n",
    "    divisor +=1\n",
    "if flag ==0:\n",
    "    print(number,'is not prime number')\n",
    "else:\n",
    "    print(number,'is prime number')"
   ]
  },
  {
   "cell_type": "code",
   "execution_count": null,
   "metadata": {},
   "outputs": [],
   "source": [
    "number = eval(input('Please input an integer:'))\n",
    "divisor = 2\n",
    "flag = 1\n",
    "while divisor <= number/2:\n",
    "    if number % divisor ==0:\n",
    "        #If true, number is not prime number\n",
    "        flag = 0\n",
    "        break\n",
    "    divisor +=1\n",
    "if flag ==0:\n",
    "    print(number,'is not prime number')\n",
    "else:\n",
    "    print(number,'is prime number')"
   ]
  },
  {
   "cell_type": "code",
   "execution_count": null,
   "metadata": {},
   "outputs": [],
   "source": [
    "for number in range(2,1001):\n",
    "    divisor = 2\n",
    "    flag = 1\n",
    "    while divisor <= number/2:\n",
    "        if number % divisor ==0:\n",
    "            flag = 0\n",
    "            break\n",
    "        divisor += 1\n",
    "    if flag ==1:\n",
    "        print(number,end=' ')"
   ]
  },
  {
   "cell_type": "code",
   "execution_count": null,
   "metadata": {},
   "outputs": [],
   "source": [
    "count = 0\n",
    "for number in range(2,1001):\n",
    "    divisor = 2\n",
    "    flag = 1\n",
    "    while divisor <= number /2:\n",
    "        if number % divisor ==0:\n",
    "            flag = 0\n",
    "            break\n",
    "        divisor +=1\n",
    "    if flag ==1:\n",
    "        count += 1\n",
    "        if count % 10 ==0:\n",
    "            print('%5d'%(number))\n",
    "        else:\n",
    "            print('%5d'%(number),end=' ')"
   ]
  },
  {
   "cell_type": "code",
   "execution_count": null,
   "metadata": {},
   "outputs": [],
   "source": [
    "number1 = eval(input('Please input an integer:'))\n",
    "number2 = eval(input('Please input an integer:'))\n",
    "gcd = 1\n",
    "k = 2\n",
    "while k <= number1 and k <= number2:\n",
    "    if number1 % k ==0 and number2 % k ==0:\n",
    "        gcd = k\n",
    "    k+=1\n",
    "print('The GCD for',number1,'and',number2,'is',gcd)"
   ]
  },
  {
   "cell_type": "code",
   "execution_count": null,
   "metadata": {},
   "outputs": [],
   "source": [
    "numerator1 = eval(input('Please input an numerator1:'))\n",
    "denominator1 = eval(input('Please input an denominator1:'))\n",
    "\n",
    "numerator2 = eval(input('Please input an numerator2:'))\n",
    "denominator2 = eval(input('Please input an denominator2:'))\n",
    "\n",
    "number1 = numerator1 * denominator2 + numerator2 * denominator1\n",
    "number2 = denominator1 * denominator2\n",
    "\n",
    "gcd = 1\n",
    "k = 2\n",
    "while k <= number1 and k <= number2:\n",
    "    if number1%k==0 and number2 %k ==0:\n",
    "        gcd = k\n",
    "    k+=1\n",
    "print('The GCD for',number1,'and',number2,'is',gcd)\n",
    "print('%d/%d + %d/%d ='%(numerator1,denominator1,numerator2,denominator2),end=' ')\n",
    "print('%d/%d'%(number1/gcd,number2/gcd))"
   ]
  },
  {
   "cell_type": "code",
   "execution_count": null,
   "metadata": {},
   "outputs": [],
   "source": [
    "import random\n",
    "for i in range(1,7):\n",
    "    k= random.randint(1,49)\n",
    "    print(k,end=' ')"
   ]
  },
  {
   "cell_type": "code",
   "execution_count": null,
   "metadata": {},
   "outputs": [],
   "source": [
    "fiveMulti = 0\n",
    "k = 5\n",
    "while k <=100:\n",
    "    fiveMulti +=k\n",
    "    k+=5\n",
    "print(fiveMulti)"
   ]
  },
  {
   "cell_type": "code",
   "execution_count": null,
   "metadata": {},
   "outputs": [],
   "source": [
    "for i in range(10):\n",
    "    print(i,end=' ')\n",
    "print(' ')\n",
    "\n",
    "for i in range(2,10):\n",
    "    print(i,end=' ')\n",
    "print(' ')\n",
    "\n",
    "for i in range(1,10,2):\n",
    "    print(i,end=' ')\n",
    "print(' ')\n",
    "\n",
    "for i in range(9,1,-2):\n",
    "    print(i,end=' ')\n",
    "print(' ')"
   ]
  },
  {
   "cell_type": "code",
   "execution_count": null,
   "metadata": {},
   "outputs": [],
   "source": [
    "for i in range(10):\n",
    "    print('%3d'%(i),end=' ')\n",
    "print(' ')\n",
    "\n",
    "for i in range(2,10):\n",
    "    print('%3d'%(i),end=' ')\n",
    "print(' ')\n",
    "\n",
    "for i in range(1,10,2):\n",
    "    print('%3d'%(i),end=' ')\n",
    "print(' ')\n",
    "\n",
    "for i in range(9,1,-2):\n",
    "    print('%3d'%(i),end=' ')\n",
    "print(' ')"
   ]
  },
  {
   "cell_type": "code",
   "execution_count": null,
   "metadata": {},
   "outputs": [],
   "source": [
    "total = 0\n",
    "num = 0\n",
    "while True:\n",
    "    num +=1\n",
    "    total += num\n",
    "    if total >=5050:\n",
    "        break\n",
    "print('1+2+3+...+%d=%d'%(num,total))"
   ]
  },
  {
   "cell_type": "code",
   "execution_count": null,
   "metadata": {},
   "outputs": [],
   "source": [
    "total = 0\n",
    "num = 0\n",
    "while True <=100:\n",
    "    if num % 2 == 0:\n",
    "        num += 1\n",
    "        continue\n",
    "    total += num\n",
    "    num += 1\n",
    "print('1+3+5+...+99=',total)"
   ]
  },
  {
   "cell_type": "code",
   "execution_count": null,
   "metadata": {},
   "outputs": [],
   "source": [
    "for i in range(10):\n",
    "    for j in range(i,10):\n",
    "        print('*',end=' ')\n",
    "    print('')"
   ]
  },
  {
   "cell_type": "code",
   "execution_count": null,
   "metadata": {},
   "outputs": [],
   "source": [
    "total = 0\n",
    "for i in range(1,101):\n",
    "    if i % 2 ==1:\n",
    "        total += i\n",
    "    else:\n",
    "        continue\n",
    "print('1+3+5+...+99=',total)"
   ]
  },
  {
   "cell_type": "code",
   "execution_count": null,
   "metadata": {},
   "outputs": [],
   "source": [
    "for i in range (9):\n",
    "    for j in range(i):\n",
    "        print('*',end=' ')\n",
    "    print(' ')\n",
    "        "
   ]
  },
  {
   "cell_type": "code",
   "execution_count": null,
   "metadata": {},
   "outputs": [],
   "source": [
    "fiveMulti = 0\n",
    "k = 5\n",
    "while k <=100:\n",
    "    fiveMulti +=k\n",
    "    k+=5\n",
    "print(fiveMulti)"
   ]
  },
  {
   "cell_type": "code",
   "execution_count": null,
   "metadata": {},
   "outputs": [],
   "source": [
    "total = 0\n",
    "num = 0\n",
    "while True:\n",
    "    num +=1\n",
    "    total += num\n",
    "    if total >=5050:\n",
    "        break\n",
    "print('1+2+3+...+%d=%d'%(num,total))"
   ]
  },
  {
   "cell_type": "code",
   "execution_count": null,
   "metadata": {},
   "outputs": [],
   "source": [
    "total = 0\n",
    "num = 0\n",
    "while True <=100:\n",
    "    if num % 2 == 0:\n",
    "        num += 1\n",
    "        continue\n",
    "    total += num\n",
    "    num += 1\n",
    "print('1+3+5+...+99=',total)"
   ]
  },
  {
   "cell_type": "code",
   "execution_count": null,
   "metadata": {},
   "outputs": [],
   "source": [
    "total = 0\n",
    "for i in range(1,101):\n",
    "    if i % 2 ==1:\n",
    "        total += i\n",
    "    else:\n",
    "        continue\n",
    "print('1+3+5+...+99=',total)"
   ]
  },
  {
   "cell_type": "code",
   "execution_count": null,
   "metadata": {},
   "outputs": [],
   "source": []
  }
 ],
 "metadata": {
  "kernelspec": {
   "display_name": "Python 3",
   "language": "python",
   "name": "python3"
  },
  "language_info": {
   "codemirror_mode": {
    "name": "ipython",
    "version": 3
   },
   "file_extension": ".py",
   "mimetype": "text/x-python",
   "name": "python",
   "nbconvert_exporter": "python",
   "pygments_lexer": "ipython3",
   "version": "3.8.3"
  }
 },
 "nbformat": 4,
 "nbformat_minor": 4
}
